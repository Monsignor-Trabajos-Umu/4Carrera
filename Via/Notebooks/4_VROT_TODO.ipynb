{
 "cells": [
  {
   "cell_type": "markdown",
   "metadata": {
    "collapsed": true,
    "pycharm": {
     "name": "#%% md\n"
    }
   },
   "source": [
    "Estima de forma aproximada la velocidad angular de rotación de la cámara (grados/segundo) analizando las trayectorias obtenidas por el *tracker* de Lucas-Kanade (ejemplo `LK/lk_track.py`). "
   ]
  },
  {
   "cell_type": "markdown",
   "metadata": {
    "pycharm": {
     "is_executing": false,
     "name": "#%% md\n"
    }
   },
   "source": [
    "Intentar explicar este programa en un documento juptyer es algo dificil pero el programa en si\n",
    "es bastante facil\n",
    "Necesitamos dos cosas:\n",
    "- Calcular unos puntos/esquinas (p1) en un frame\n",
    "- Calcular la posicion de los mismos en el frame siguiente.\n",
    "Una vez que tenemos la posicion de unos puntos en dos instantes de tiempo solo tenemos\n",
    "que calcular hacia donde se han movido y ya tendriamos nuestro giroscopio\n",
    "\n",
    "Primero tenemos en encontrar unos puntos para eso usamos\n"
   ]
  },
  {
   "cell_type": "code",
   "execution_count": 1,
   "metadata": {
    "pycharm": {
     "is_executing": false,
     "name": "#%%\n"
    }
   },
   "outputs": [
    {
     "name": "stdout",
     "output_type": "stream",
     "text": [
      "Couldn't find program: 'false'\n"
     ]
    }
   ],
   "source": [
    "%%script false --no-raise-error\n",
    "corners = cv.goodFeaturesToTrack(gray, mask=mask, **self.corners_params)\n",
    "if corners is not None:\n",
    "    for [(x, y)] in np.float32(corners):\n",
    "        tracks.append([[x, y]])"
   ]
  },
  {
   "cell_type": "markdown",
   "metadata": {
    "pycharm": {
     "name": "#%% md\n"
    }
   },
   "source": [
    "Esto me devuelve una lista con los puntos donde hay una esquina \n",
    "\n",
    "Una vez que tenemos los puntos calculamos la nueva posicion de los mismos (p1)"
   ]
  },
  {
   "cell_type": "code",
   "execution_count": 2,
   "metadata": {
    "pycharm": {
     "is_executing": false,
     "name": "#%% \n"
    }
   },
   "outputs": [
    {
     "name": "stdout",
     "output_type": "stream",
     "text": [
      "Couldn't find program: 'false'\n"
     ]
    }
   ],
   "source": [
    "%%script false --no-raise-error\n",
    "tracks = \n",
    "# Sacamos los últimos puntos de cada trayectoria\n",
    "p0 = np.float32([t[-1] for t in tracks])\n",
    "# Calculamos la nueva posicion de los puntos p0\n",
    "p1, _, _ = cv.calcOpticalFlowPyrLK(prevgray, gray, p0, None, **self.lk_params)\n",
    "# calculamos la posicion en el pasado relativa a p1\n",
    "p0r, _, _ = cv.calcOpticalFlowPyrLK(gray, prevgray, p1, None, **self.lk_params)"
   ]
  },
  {
   "cell_type": "markdown",
   "metadata": {
    "pycharm": {
     "name": "#%% md\n"
    }
   },
   "source": [
    "Para reducir errores solo nos quedamos con los puntos que tienen un futuro es decir\n",
    "(p1 en t0 ) == p0 en t0   "
   ]
  },
  {
   "cell_type": "code",
   "execution_count": 3,
   "metadata": {
    "pycharm": {
     "is_executing": false,
     "name": "#%%\n"
    }
   },
   "outputs": [
    {
     "name": "stdout",
     "output_type": "stream",
     "text": [
      "Couldn't find program: 'false'\n"
     ]
    }
   ],
   "source": [
    "%%script false --no-raise-error\n",
    "# el criterio para considerar bueno un punto siguiente es que si lo proyectamos\n",
    "# hacia el pasado, vuelva muy cerca del punto incial, es decir:\n",
    "# \"back-tracking for match verification between frames\"\n",
    "d = abs(p0 - p0r).reshape(-1, 2).max(axis=1)\n",
    "good = d < 1\n",
    "# Elegimos los puntos buenos\n",
    "new_tracks = []\n",
    "for t, (x_new, y_new), ok in zip(tracks, p1.reshape(-1, 2), good):\n",
    "    if not ok:\n",
    "        continue\n",
    "    t.append([x_new, y_new])\n",
    "    if len(t) > self.track_len:\n",
    "        del t[0]\n",
    "    new_tracks.append(t)"
   ]
  },
  {
   "cell_type": "markdown",
   "metadata": {
    "pycharm": {
     "name": "#%% md\n"
    }
   },
   "source": [
    "Una vez que tenemos los puntos en dos instantes de tiempo p1 y p0 \n",
    "podemos calcular hacia donde se ha movido la camara esto se hace con\n",
    "`estimateAffinePartial2D`"
   ]
  },
  {
   "cell_type": "code",
   "execution_count": 4,
   "metadata": {
    "pycharm": {
     "is_executing": false,
     "name": "#%%\n"
    }
   },
   "outputs": [],
   "source": [
    "import numpy as np\n",
    "import cv2 as cv\n",
    "def _get_movement(tracks: list):\n",
    "    \"\"\"\n",
    "    Obtiene t_x y t_y que son \"cuanto se ha movido el punto con respecto a su posicion anterior\"\n",
    "    Args:\n",
    "        tracks (np.):\n",
    "\n",
    "    Returns:\n",
    "        t_x: Movimiento en el eje x\n",
    "        t_y: Movimiento en el eje y\n",
    "\n",
    "    \"\"\"\n",
    "    t_x, t_y = 0, 0\n",
    "    if len(tracks):\n",
    "        # Sacamos los ultimos 2 estados\n",
    "        prev_pts = np.array([t[-2] for t in tracks])\n",
    "        curr_pts = np.array([t[-1] for t in tracks])\n",
    "\n",
    "        # Find transformation matrix\n",
    "        \"\"\"cos(θ) * s   -sin(θ) * s    t_x\n",
    "           sin(θ) * s    cos(θ) * s    t_y \"\"\"\n",
    "        matriz, inliers = cv.estimateAffinePartial2D(prev_pts, curr_pts)\n",
    "        # Sacamos el angulo del movimiento respento Y y X | A veces no se puede resolver -_-\n",
    "        if matriz is not None:\n",
    "            # theta_X = np.degrees(np.arctan2(-matriz[0, 1], matriz[0, 0]))\n",
    "            # theta_Y = np.degrees(np.arctan2(-matriz[1, 1], matriz[1, 0]))\n",
    "            t_x = int(matriz[0, 2])\n",
    "            t_y = int(matriz[1, 2])\n",
    "\n",
    "    return t_x, t_y"
   ]
  },
  {
   "cell_type": "markdown",
   "metadata": {
    "pycharm": {
     "name": "#%% md\n"
    }
   },
   "source": [
    "<video controls src=\"../img/VROT/vrot_working.mp4\" />"
   ]
  }
 ],
 "metadata": {
  "kernelspec": {
   "display_name": "PyCharm (Via)",
   "language": "python",
   "name": "pycharm-60efd652"
  },
  "language_info": {
   "codemirror_mode": {
    "name": "ipython",
    "version": 3
   },
   "file_extension": ".py",
   "mimetype": "text/x-python",
   "name": "python",
   "nbconvert_exporter": "python",
   "pygments_lexer": "ipython3",
   "version": "3.7.7"
  },
  "pycharm": {
   "stem_cell": {
    "cell_type": "raw",
    "metadata": {
     "collapsed": false
    },
    "source": []
   }
  }
 },
 "nbformat": 4,
 "nbformat_minor": 1
}
