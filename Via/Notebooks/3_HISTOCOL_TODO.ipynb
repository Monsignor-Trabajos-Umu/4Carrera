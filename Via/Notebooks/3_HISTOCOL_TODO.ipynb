{
 "cells": [
  {
   "cell_type": "markdown",
   "metadata": {
    "collapsed": true,
    "pycharm": {
     "name": "#%% md\n"
    }
   },
   "source": [
    "# Construye un clasificador de objetos en base a la similitud de los histogramas de color del ROI (de los 3 canales por separado)."
   ]
  },
  {
   "cell_type": "code",
   "execution_count": null,
   "metadata": {
    "pycharm": {
     "name": "#%%\n"
    }
   },
   "outputs": [],
   "source": [
    "import cv2 as cv\n",
    "import numpy as np\n",
    "from collections import deque\n",
    "from umucv.stream import autoStream\n",
    "from umucv.util import ROI\n",
    "from matplotlib import pyplot as plt\n",
    "\n",
    "%matplotlib inline\n"
   ]
  },
  {
   "cell_type": "markdown",
   "metadata": {
    "pycharm": {
     "name": "#%% md\n"
    }
   },
   "source": [
    "Lo que nos piden es:\n",
    "- Capturar rois y guardarlos.\n",
    "- Cuando selecionemos un nuevo roid comprobar si se parece a los guardados\n",
    "\n",
    "El unico problema encontrado ha sido para mostrar graficas dado que matplotlib no se puede ejecutar en otro thread que no sea el principal.\n",
    "Como este ejercicio es muy facil solo comentare codigo\n"
   ]
  },
  {
   "cell_type": "code",
   "execution_count": 3,
   "metadata": {
    "pycharm": {
     "is_executing": false,
     "name": "#%%\n"
    }
   },
   "outputs": [],
   "source": [
    "%%script false --no-raise-error\n",
    "\n",
    "CANALES_COLOR = ('b', 'g', 'r')\n",
    "\n",
    "\n",
    "def calcular_histogramas(roi: np.ndarray) -> list:\n",
    "    \"\"\"\n",
    "    Normalizamos y calculamos el histograma para cada color\n",
    "    Args:\n",
    "        roi: Imagen para calcular histograma\n",
    "\n",
    "    Returns:\n",
    "        histr_color:lista con los 3 histogramas normalizados\n",
    "    \"\"\"\n",
    "    histr_color = []\n",
    "    for i, col in enumerate(CANALES_COLOR):\n",
    "        histr = cv.calcHist([roi], [i], None, [256], [0, 256])\n",
    "        cv.normalize(histr, histr, alpha=0, beta=400, norm_type=cv.NORM_MINMAX)\n",
    "        histr_color.append(histr)\n",
    "    return histr_color\n",
    "\n",
    "def mostrar_histograma(roi: np.ndarray):\n",
    "    \"\"\"\n",
    "    Mostramos los histogramas de los 3 canales de color en el mismo plot\n",
    "    Args:\n",
    "        roi: Imagen sobre la cual calculamos el histograma\n",
    "\n",
    "    \"\"\"\n",
    "    histr_color = calcular_histogramas(roi)\n",
    "    for i, col in enumerate(CANALES_COLOR):\n",
    "        histr = histr_color[i]\n",
    "        plt.plot(histr, color=col)\n",
    "        plt.xlim([0, 256])\n",
    "    plt.show()\n",
    "\n",
    "\n",
    "def hconcat_resize_min(im_list, interpolation=cv.INTER_CUBIC):\n",
    "    \"\"\"\n",
    "    Modifica las dimensiones de las imagenes para que tengan el mismo tamaño.\n",
    "    Args:\n",
    "        im_list:\n",
    "        interpolation:\n",
    "\n",
    "    Returns:\n",
    "        im_list_resize: Lista con las imagenes con el mismo tamaño\n",
    "    \"\"\"\n",
    "    h_min = min(im.shape[0] for im in im_list)\n",
    "    im_list_resize = [cv.resize(im, (int(im.shape[1] * h_min / im.shape[0]), h_min), interpolation=interpolation)\n",
    "                      for im in im_list]\n",
    "    return cv.hconcat(im_list_resize)\n",
    "\n",
    "\n",
    "def add_to_saved_roi(roi: np.ndarray, savedQueue: deque):\n",
    "    \"\"\"\n",
    "    Añade la imagen del roi a la lista de rois guardados.\n",
    "    Args:\n",
    "        roi: roi para guardar\n",
    "        savedQueue: Deque donde estan los rois\n",
    "\n",
    "    Returns:\n",
    "\n",
    "    \"\"\"\n",
    "    savedQueue.append(roi)\n",
    "    model_pict = hconcat_resize_min(savedQueue)\n",
    "    cv.imshow('models', model_pict)\n",
    "\n",
    "\n",
    "def compare_models(roi_actual: np.ndarray, roi_modelo: np.ndarray):\n",
    "    \"\"\"\n",
    "    Calcula el valor de semenjanza entre dos rois\n",
    "    Args:\n",
    "        roi_actual: roi actual\n",
    "        roi_modelo: roi modelo\n",
    "\n",
    "    Returns:\n",
    "        valor semejanza\n",
    "    \"\"\"\n",
    "    # Suma de diferencias absolutas en cada canal y quedarnos el máximo de los tres canales\n",
    "    h1 = calcular_histogramas(roi_actual)\n",
    "    h2 = calcular_histogramas(roi_modelo)\n",
    "    resultado = []\n",
    "    for i, col in enumerate(CANALES_COLOR):\n",
    "        # Correlation mas cercano 1 mejor\n",
    "        temp = cv.compareHist(h1[i], h2[i], 0)\n",
    "        resultado.append(temp)\n",
    "    # Elejimos el histograma que menos se parece\n",
    "    return min(resultado)\n",
    "\n",
    "\n",
    "def find_best_models(imagen_texto, roi_actual: np.ndarray, savedModels: deque):\n",
    "    \"\"\"\n",
    "    Encuentra el modelo que mas se parece al roi_actual de los guardados\n",
    "    y lo muestra por pantalla.\n",
    "    Args:\n",
    "        imagen_texto:\n",
    "        roi_actual:\n",
    "        savedModels:\n",
    "\n",
    "    Returns:\n",
    "\n",
    "    \"\"\"\n",
    "    if savedModels:\n",
    "        results: [int, np.ndarray] = [(compare_models(roi_actual, modelox), modelox)\n",
    "                                      for modelox in savedModels]\n",
    "        menor_valor, mejor_modelo = results[0]\n",
    "        texto = \"\"\n",
    "        mayor_valor = -1\n",
    "        for valor, modelo in results:\n",
    "            texto = f\"{texto}  {valor}\"\n",
    "            if valor > mayor_valor:\n",
    "                mayor_valor = valor\n",
    "                mejor_modelo = modelo\n",
    "        if mayor_valor <= 0.3:\n",
    "            cv.imshow('Detectado', cv.imread(\"notfound.jpeg\"))\n",
    "        else:\n",
    "            cv.imshow('Detectado', mejor_modelo)\n",
    "        cv.putText(imagen_texto, texto, (0, 50), cv.FONT_HERSHEY_SIMPLEX, 1, (255, 0, 0), 2, cv.LINE_AA)\n",
    "\n",
    "\n",
    "def capture_roi(roi: ROI, frame, key, savedModels: deque):\n",
    "    \"\"\"\n",
    "    Seleciona un ROI y si se pulsa la telca t se guarda en la cola\n",
    "    Args:\n",
    "        roi: ROI\n",
    "        frame: Imagen del frame\n",
    "        key: Tecla pulsad\n",
    "        savedQueue: Deque donde guardar el trozo del roi\n",
    "\n",
    "    \"\"\"\n",
    "    # seleccionamos una región\n",
    "    if roi.roi:\n",
    "        [x1, y1, x2, y2] = roi.roi\n",
    "        trozo = frame[y1:y2 + 1, x1:x2 + 1].copy()\n",
    "        find_best_models(frame, trozo, savedModels)\n",
    "        # Como matplotlib es bloqueante y no puedo hacer un thread\n",
    "        # Ni tengo ganas de usar multiprocesing\n",
    "        if key == ord('t'):\n",
    "            mostrar_histograma(trozo)\n",
    "        elif key == ord('c'):\n",
    "            cv.imshow('trozo', trozo)\n",
    "            # quitar el roi cuando se selecciona la región\n",
    "            roi.roi = []\n",
    "            add_to_saved_roi(trozo, savedModels)\n",
    "        cv.rectangle(frame, (x1, y1), (x2, y2), color=(0, 255, 255), thickness=2)\n",
    "\n",
    "\n",
    "def main():\n",
    "    cv.namedWindow('input')\n",
    "    cv.namedWindow('models')\n",
    "    roi = ROI('input')\n",
    "    savedROIS = deque()\n",
    "\n",
    "    for key, frame in autoStream():\n",
    "        # print(roi.roi)\n",
    "        capture_roi(roi, frame, key, savedROIS)\n",
    "        cv.imshow('input', frame)\n",
    "\n",
    "    cv.destroyAllWindows()\n",
    "\n",
    "\n",
    "if __name__ == '__main__':\n",
    "    main()\n",
    "\n",
    "\n"
   ]
  },
  {
   "cell_type": "markdown",
   "source": [
    "<video controls src=\"../img/HISTOCOL/Histocol_video.mp4\" />\n",
    "\n",
    "\n",
    "\n"
   ],
   "metadata": {
    "collapsed": false
   }
  }
 ],
 "metadata": {
  "kernelspec": {
   "display_name": "Python 3",
   "language": "python",
   "name": "python3"
  },
  "language_info": {
   "codemirror_mode": {
    "name": "ipython",
    "version": 3
   },
   "file_extension": ".py",
   "mimetype": "text/x-python",
   "name": "python",
   "nbconvert_exporter": "python",
   "pygments_lexer": "ipython3",
   "version": "3.8.1"
  },
  "pycharm": {
   "stem_cell": {
    "cell_type": "raw",
    "source": [],
    "metadata": {
     "collapsed": false
    }
   }
  }
 },
 "nbformat": 4,
 "nbformat_minor": 1
}